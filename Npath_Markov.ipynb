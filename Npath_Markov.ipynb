{
 "cells": [
  {
   "cell_type": "code",
   "execution_count": 2,
   "id": "313144f6",
   "metadata": {
    "tags": []
   },
   "outputs": [
    {
     "ename": "ERROR",
     "evalue": "Connection 'Vantage-LIVE' does not exist",
     "output_type": "error",
     "traceback": [
      "Connection 'Vantage-LIVE' does not exist"
     ]
    }
   ],
   "source": [
    "%connect Vantage-LIVE, hidewarnings=true"
   ]
  },
  {
   "cell_type": "code",
   "execution_count": 3,
   "id": "6ed0d6a1-1022-4922-ba0a-05228632b4ab",
   "metadata": {
    "tags": []
   },
   "outputs": [
    {
     "name": "stdout",
     "output_type": "stream",
     "text": [
      "Disconnected: NAME=AWS_APJ, USER=DBC, HOST=APJ-Demo-Perm-NLB4-04313a2144f2d140.elb.ap-southeast-2.amazonaws.com\n",
      "Disconnected: NAME=AWS_PROD, USER=tb250045, HOST=tdprd2.td.teradata.com, PROPS=\"logmech=LDAP,tmode=TERA,dbs_port=1025\"\n",
      "Disconnected: NAME=AWS_machine, USER=greig, HOST=13.239.63.137, DATABASE=dbc\n",
      "Disconnected: NAME=CSE, USER=demo_user, HOST=demo-03p9jzrz3oc8j7qv.env.clearscape.teradata.com\n",
      "Disconnected: NAME=INDBXSP, USER=tb250045, HOST=tdprd2.td.teradata.com, DATABASE=TRNG_XSP, PROPS=\"tmode=TERA, logmech=LDAP\"\n",
      "Disconnected: NAME=PROD, USER=tb250045, HOST=tdprd.td.teradata.com, PROPS=\"logmech=LDAP,tmode=TERA,dbs_port=1025\"\n",
      "Disconnected: NAME=Transcend-Vantage24-Beta, USER=tb250045, HOST=vantage24.td.teradata.com, PROPS=\"logMech=LDAP,logmech=LDAP\"\n",
      "Disconnected: NAME=Vantage-Live, USER=tb250045, HOST=tdprd3.td.teradata.com, DATABASE=tb250045, PROPS=\"logmech=LDAP\"\n",
      "Disconnected: NAME=aws_optus, USER=dbc, HOST=141.206.0.153\n",
      "Disconnected: NAME=aws_optus_mldb, USER=mldb, HOST=141.206.0.153\n",
      "Disconnected: NAME=aws_optus_tat, USER=OPTUSPOC_Tatiana, HOST=141.206.0.153\n",
      "Disconnected: NAME=emea_vm, USER=demo_user, HOST=172.16.181.128\n",
      "Disconnected: NAME=emea_vm_dbc, USER=dbc, HOST=172.16.181.128, DATABASE=demo_db, PROPS=\"logmech=LDAP,tmode=TERA,dbs_port=1025\"\n",
      "Disconnected: NAME=local_17.20, USER=dbc, HOST=127.0.0.1, PROPS=\"logmech=TD2\"\n",
      "Disconnected: NAME=training_demo, USER=CLOUD_WS_Imran, HOST=APJ-Demo-Perm-NLB4-04313a2144f2d140.elb.ap-southeast-2.amazonaws.com, DATABASE=CLOUD_WS_WORK_DB\n"
     ]
    }
   ],
   "source": [
    "%lsconnect"
   ]
  },
  {
   "cell_type": "code",
   "execution_count": 6,
   "id": "7e56a40a-66e2-437e-bc42-dc669a406a6a",
   "metadata": {
    "tags": []
   },
   "outputs": [
    {
     "name": "stdout",
     "output_type": "stream",
     "text": [
      "Connected: 'AWS_PROD' connection activated for user 'tb250045'\n"
     ]
    }
   ],
   "source": [
    "%connect  AWS_PROD"
   ]
  },
  {
   "cell_type": "code",
   "execution_count": 36,
   "id": "93a88f65",
   "metadata": {},
   "outputs": [
    {
     "data": {
      "text/plain": [
       "Success: 1 rows affected"
      ]
     },
     "execution_count": 36,
     "metadata": {
      "application/vnd.teradata.resultset": ""
     },
     "output_type": "execute_result"
    }
   ],
   "source": [
    "database ADLDEMOPRD3_tb250045"
   ]
  },
  {
   "cell_type": "code",
   "execution_count": 9,
   "id": "bd9ac5b7",
   "metadata": {
    "tags": []
   },
   "outputs": [
    {
     "data": {
      "text/plain": [
       "Success: 19 rows affected"
      ]
     },
     "execution_count": 9,
     "metadata": {
      "application/vnd.teradata.resultset": ""
     },
     "output_type": "execute_result"
    }
   ],
   "source": [
    "DROP TABLE all_simple_path"
   ]
  },
  {
   "cell_type": "code",
   "execution_count": 10,
   "id": "8907244a",
   "metadata": {
    "tags": []
   },
   "outputs": [
    {
     "data": {
      "text/plain": [
       "Success: 0 rows affected"
      ]
     },
     "execution_count": 10,
     "metadata": {
      "application/vnd.teradata.resultset": ""
     },
     "output_type": "execute_result"
    }
   ],
   "source": [
    "CREATE TABLE all_simple_path(\n",
    "    cust_id INTEGER\n",
    "    ,date_tb DATE FORMAT 'DD/MM/YYYY'\n",
    "    ,event VARCHAR(10)\n",
    ")primary index(cust_id)"
   ]
  },
  {
   "cell_type": "code",
   "execution_count": 11,
   "id": "f567b342",
   "metadata": {
    "tags": []
   },
   "outputs": [
    {
     "data": {
      "text/plain": [
       "Success: 1 rows affected"
      ]
     },
     "execution_count": 11,
     "metadata": {
      "application/vnd.teradata.resultset": ""
     },
     "output_type": "execute_result"
    },
    {
     "data": {
      "text/plain": [
       "Success: 1 rows affected"
      ]
     },
     "execution_count": 11,
     "metadata": {
      "application/vnd.teradata.resultset": ""
     },
     "output_type": "execute_result"
    },
    {
     "data": {
      "text/plain": [
       "Success: 1 rows affected"
      ]
     },
     "execution_count": 11,
     "metadata": {
      "application/vnd.teradata.resultset": ""
     },
     "output_type": "execute_result"
    },
    {
     "data": {
      "text/plain": [
       "Success: 1 rows affected"
      ]
     },
     "execution_count": 11,
     "metadata": {
      "application/vnd.teradata.resultset": ""
     },
     "output_type": "execute_result"
    },
    {
     "data": {
      "text/plain": [
       "Success: 1 rows affected"
      ]
     },
     "execution_count": 11,
     "metadata": {
      "application/vnd.teradata.resultset": ""
     },
     "output_type": "execute_result"
    },
    {
     "data": {
      "text/plain": [
       "Success: 1 rows affected"
      ]
     },
     "execution_count": 11,
     "metadata": {
      "application/vnd.teradata.resultset": ""
     },
     "output_type": "execute_result"
    },
    {
     "data": {
      "text/plain": [
       "Success: 1 rows affected"
      ]
     },
     "execution_count": 11,
     "metadata": {
      "application/vnd.teradata.resultset": ""
     },
     "output_type": "execute_result"
    },
    {
     "data": {
      "text/plain": [
       "Success: 1 rows affected"
      ]
     },
     "execution_count": 11,
     "metadata": {
      "application/vnd.teradata.resultset": ""
     },
     "output_type": "execute_result"
    },
    {
     "data": {
      "text/plain": [
       "Success: 1 rows affected"
      ]
     },
     "execution_count": 11,
     "metadata": {
      "application/vnd.teradata.resultset": ""
     },
     "output_type": "execute_result"
    },
    {
     "data": {
      "text/plain": [
       "Success: 1 rows affected"
      ]
     },
     "execution_count": 11,
     "metadata": {
      "application/vnd.teradata.resultset": ""
     },
     "output_type": "execute_result"
    },
    {
     "data": {
      "text/plain": [
       "Success: 1 rows affected"
      ]
     },
     "execution_count": 11,
     "metadata": {
      "application/vnd.teradata.resultset": ""
     },
     "output_type": "execute_result"
    },
    {
     "data": {
      "text/plain": [
       "Success: 1 rows affected"
      ]
     },
     "execution_count": 11,
     "metadata": {
      "application/vnd.teradata.resultset": ""
     },
     "output_type": "execute_result"
    },
    {
     "data": {
      "text/plain": [
       "Success: 1 rows affected"
      ]
     },
     "execution_count": 11,
     "metadata": {
      "application/vnd.teradata.resultset": ""
     },
     "output_type": "execute_result"
    },
    {
     "data": {
      "text/plain": [
       "Success: 1 rows affected"
      ]
     },
     "execution_count": 11,
     "metadata": {
      "application/vnd.teradata.resultset": ""
     },
     "output_type": "execute_result"
    },
    {
     "data": {
      "text/plain": [
       "Success: 1 rows affected"
      ]
     },
     "execution_count": 11,
     "metadata": {
      "application/vnd.teradata.resultset": ""
     },
     "output_type": "execute_result"
    },
    {
     "data": {
      "text/plain": [
       "Success: 1 rows affected"
      ]
     },
     "execution_count": 11,
     "metadata": {
      "application/vnd.teradata.resultset": ""
     },
     "output_type": "execute_result"
    }
   ],
   "source": [
    "INSERT INTO all_simple_path VALUES(1,'21/06/2022', 'start');\n",
    "INSERT INTO all_simple_path VALUES(1,'22/06/2022', 'c1');\n",
    "INSERT INTO all_simple_path VALUES(1,'23/06/2022', 'c3');\n",
    "INSERT INTO all_simple_path VALUES(1,'24/06/2022', 'conversion');\n",
    "\n",
    "INSERT INTO all_simple_path VALUES(2,'21/06/2022', 'start');\n",
    "INSERT INTO all_simple_path VALUES(2,'22/06/2022', 'c1');\n",
    "INSERT INTO all_simple_path VALUES(2,'23/06/2022', 'c3');\n",
    "INSERT INTO all_simple_path VALUES(2,'24/06/2022', 'c4');\n",
    "\n",
    "INSERT INTO all_simple_path VALUES(5,'21/06/2022', 'start');\n",
    "INSERT INTO all_simple_path VALUES(5,'22/06/2022', 'c1');\n",
    "INSERT INTO all_simple_path VALUES(5,'24/06/2022', 'c4');\n",
    "INSERT INTO all_simple_path VALUES(5,'25/06/2022', 'conversion');\n",
    "\n",
    "INSERT INTO all_simple_path VALUES(3,'21/06/2022', 'start');\n",
    "INSERT INTO all_simple_path VALUES(3,'22/06/2022', 'c2');\n",
    "INSERT INTO all_simple_path VALUES(4,'21/06/2022', 'start');\n",
    "INSERT INTO all_simple_path VALUES(4,'22/06/2022', 'c2');"
   ]
  },
  {
   "cell_type": "code",
   "execution_count": 12,
   "id": "07c8b685",
   "metadata": {
    "tags": []
   },
   "outputs": [
    {
     "data": {
      "application/vnd.teradata.resultset": "\"cust_id\",\"date_tb\",\"event\"\n\"1\",\"2022-06-21\",\"start\"\n\"1\",\"2022-06-22\",\"c1\"\n\"1\",\"2022-06-23\",\"c3\"\n\"1\",\"2022-06-24\",\"conversion\"\n\"2\",\"2022-06-21\",\"start\"\n\"2\",\"2022-06-22\",\"c1\"\n\"2\",\"2022-06-23\",\"c3\"\n\"2\",\"2022-06-24\",\"c4\"\n\"3\",\"2022-06-21\",\"start\"\n\"3\",\"2022-06-22\",\"c2\"\n\"4\",\"2022-06-21\",\"start\"\n\"4\",\"2022-06-22\",\"c2\"\n\"5\",\"2022-06-21\",\"start\"\n\"5\",\"2022-06-22\",\"c1\"\n\"5\",\"2022-06-24\",\"c4\"\n\"5\",\"2022-06-25\",\"conversion\"",
      "text/html": [
       "<div class = \"td-resultset-table-div\" style = \"max-height: 100%; overflow-y: auto\">\n",
       "      <table class=\"tdhistory614766\"><style>\n",
       "      table.tdhistory614766 { display: block !important; min-height: 420px !important; overflow: auto !important; height: 420px !important; width: 100% !important; border: 1px solid rgb(207, 207, 207) !important; border-collapse: collapse !important; ; color: var(--jp-ui-font-color1) !important; }\n",
       "      th.tdhistory614766 { border: 1px solid rgb(198,198,198) !important; border-collapse: collapse !important; ; padding: 2px 5px !important; ; font-size: 13px !important; ; text-align: center !important; white-space: normal !important; color: var(--jp-ui-font-color1) !important; }\n",
       "      th.tdhistory614766:last-child { text-align: left !important; }\n",
       "      tbody.tdhistory614766 tr:nth-child(even) { background: rgba(243, 243, 243, 0.75) !important; }\n",
       "      tbody.tdhistory614766 tr:nth-child(odd) { background: var(--jp-ui-inverse-font-color1) !important; }\n",
       "      td.tdhistory614766 { border: 1px solid rgb(207, 207, 207) !important; border-collapse: collapse !important; ; padding: 2px 5px !important; ; font-size: 13px !important; ; text-align: left !important;          white-space: nowrap !important; overflow:hidden !important; text-overflow:ellipsis !important;; }\n",
       "    </style><thead><tr style= \"background: rgba(243, 243, 243, 0.75)\"><th class=\"tdhistory614766\"></th><th class=\"tdhistory614766\">cust_id</th><th class=\"tdhistory614766\">date_tb</th><th class=\"tdhistory614766\">event</th></tr></thead><tbody class=\"tdhistory614766 resultset-body\"><tr><th class=\"tdhistory614766\" style= \"background: rgba(243, 243, 243, 0.75)\">1</th><td class=\"tdhistory614766\">1</td><td class=\"tdhistory614766\">2022-06-21</td><td class=\"tdhistory614766\">start</td></tr><tr><th class=\"tdhistory614766\" style= \"background: rgba(243, 243, 243, 0.75)\">2</th><td class=\"tdhistory614766\">1</td><td class=\"tdhistory614766\">2022-06-22</td><td class=\"tdhistory614766\">c1</td></tr><tr><th class=\"tdhistory614766\" style= \"background: rgba(243, 243, 243, 0.75)\">3</th><td class=\"tdhistory614766\">1</td><td class=\"tdhistory614766\">2022-06-23</td><td class=\"tdhistory614766\">c3</td></tr><tr><th class=\"tdhistory614766\" style= \"background: rgba(243, 243, 243, 0.75)\">4</th><td class=\"tdhistory614766\">1</td><td class=\"tdhistory614766\">2022-06-24</td><td class=\"tdhistory614766\">conversion</td></tr><tr><th class=\"tdhistory614766\" style= \"background: rgba(243, 243, 243, 0.75)\">5</th><td class=\"tdhistory614766\">2</td><td class=\"tdhistory614766\">2022-06-21</td><td class=\"tdhistory614766\">start</td></tr><tr><th class=\"tdhistory614766\" style= \"background: rgba(243, 243, 243, 0.75)\">6</th><td class=\"tdhistory614766\">2</td><td class=\"tdhistory614766\">2022-06-22</td><td class=\"tdhistory614766\">c1</td></tr><tr><th class=\"tdhistory614766\" style= \"background: rgba(243, 243, 243, 0.75)\">7</th><td class=\"tdhistory614766\">2</td><td class=\"tdhistory614766\">2022-06-23</td><td class=\"tdhistory614766\">c3</td></tr><tr><th class=\"tdhistory614766\" style= \"background: rgba(243, 243, 243, 0.75)\">8</th><td class=\"tdhistory614766\">2</td><td class=\"tdhistory614766\">2022-06-24</td><td class=\"tdhistory614766\">c4</td></tr><tr><th class=\"tdhistory614766\" style= \"background: rgba(243, 243, 243, 0.75)\">9</th><td class=\"tdhistory614766\">3</td><td class=\"tdhistory614766\">2022-06-21</td><td class=\"tdhistory614766\">start</td></tr><tr><th class=\"tdhistory614766\" style= \"background: rgba(243, 243, 243, 0.75)\">10</th><td class=\"tdhistory614766\">3</td><td class=\"tdhistory614766\">2022-06-22</td><td class=\"tdhistory614766\">c2</td></tr><tr><th class=\"tdhistory614766\" style= \"background: rgba(243, 243, 243, 0.75)\">11</th><td class=\"tdhistory614766\">4</td><td class=\"tdhistory614766\">2022-06-21</td><td class=\"tdhistory614766\">start</td></tr><tr><th class=\"tdhistory614766\" style= \"background: rgba(243, 243, 243, 0.75)\">12</th><td class=\"tdhistory614766\">4</td><td class=\"tdhistory614766\">2022-06-22</td><td class=\"tdhistory614766\">c2</td></tr><tr><th class=\"tdhistory614766\" style= \"background: rgba(243, 243, 243, 0.75)\">13</th><td class=\"tdhistory614766\">5</td><td class=\"tdhistory614766\">2022-06-21</td><td class=\"tdhistory614766\">start</td></tr><tr><th class=\"tdhistory614766\" style= \"background: rgba(243, 243, 243, 0.75)\">14</th><td class=\"tdhistory614766\">5</td><td class=\"tdhistory614766\">2022-06-22</td><td class=\"tdhistory614766\">c1</td></tr><tr><th class=\"tdhistory614766\" style= \"background: rgba(243, 243, 243, 0.75)\">15</th><td class=\"tdhistory614766\">5</td><td class=\"tdhistory614766\">2022-06-24</td><td class=\"tdhistory614766\">c4</td></tr><tr><th class=\"tdhistory614766\" style= \"background: rgba(243, 243, 243, 0.75)\">16</th><td class=\"tdhistory614766\">5</td><td class=\"tdhistory614766\">2022-06-25</td><td class=\"tdhistory614766\">conversion</td></tr></tbody></table></div>"
      ]
     },
     "execution_count": 12,
     "metadata": {
      "application/vnd.teradata.resultset": "{\"resultSetID\":\"/Users/tatiana.bokareva/Documents/Teradata/Demos/Teradata/Resultsets/2024.02.26_17.21.37.859_AEDT\",\"historyID\":4238,\"chunkID\":\"00001\",\"sessionid\":\"\",\"portnum\":\"\",\"dockermode\":\"standalone\",\"totalRowCount\":16,\"chunkCount\":0,\"rowLimit\":0,\"columnMetadata\":[{\"columnName\":\"cust_id\",\"columnTypeName\":\"INTEGER\"},{\"columnNumber\":1,\"columnName\":\"date_tb\",\"columnTypeName\":\"DATE\"},{\"columnNumber\":2,\"columnName\":\"event\",\"columnTypeName\":\"VARCHAR\",\"length\":10,\"scale\":10}]}"
     },
     "output_type": "execute_result"
    }
   ],
   "source": [
    "sel * from all_simple_path order by 1,2"
   ]
  },
  {
   "cell_type": "code",
   "execution_count": 22,
   "id": "ff456b02",
   "metadata": {
    "tags": []
   },
   "outputs": [
    {
     "data": {
      "text/plain": [
       "Success: 21 rows affected"
      ]
     },
     "execution_count": 22,
     "metadata": {
      "application/vnd.teradata.resultset": ""
     },
     "output_type": "execute_result"
    }
   ],
   "source": [
    "drop table all_path"
   ]
  },
  {
   "cell_type": "code",
   "execution_count": 23,
   "id": "66ed7ceb",
   "metadata": {
    "tags": []
   },
   "outputs": [
    {
     "data": {
      "text/plain": [
       "Success: 0 rows affected"
      ]
     },
     "execution_count": 23,
     "metadata": {
      "application/vnd.teradata.resultset": ""
     },
     "output_type": "execute_result"
    }
   ],
   "source": [
    "--Check all the journeys\n",
    "CREATE table all_path AS(\n",
    "SELECT * FROM nPath (\n",
    "ON all_simple_path\n",
    "  PARTITION BY cust_id\n",
    "  ORDER BY date_tb\n",
    "  USING\n",
    "    Symbols (TRUE AS A)\n",
    "    Pattern ('A*')\n",
    "    Mode (NONOVERLAPPING)\n",
    "    Result (\n",
    "      FIRST (cust_id OF A) AS cust_id,\n",
    "      LAST (event OF A) AS last_event,\n",
    "      ACCUMULATE (event OF A) AS page_path\n",
    "    )\n",
    ") AS dt2\n",
    ") with data primary index(cust_id)\n"
   ]
  },
  {
   "cell_type": "code",
   "execution_count": 20,
   "id": "5d4141ee",
   "metadata": {
    "tags": []
   },
   "outputs": [
    {
     "data": {
      "application/vnd.teradata.resultset": "\"cust_id\",\"last_event\",\"page_path\"\n\"1\",\"conversion\",\"[start, c1, c3, conversion]\"\n\"2\",\"c4\",\"[start, c1, c3, c4]\"\n\"3\",\"c2\",\"[start, c2]\"\n\"4\",\"c2\",\"[start, c2]\"\n\"5\",\"conversion\",\"[start, c1, c4, conversion]\"",
      "text/html": [
       "<div class = \"td-resultset-table-div\" style = \"max-height: 100%; overflow-y: auto\">\n",
       "      <table class=\"tdhistory677128\"><style>\n",
       "      table.tdhistory677128 { display: block !important; min-height: 189px !important; overflow: auto !important; height: 189px !important; width: 100% !important; border: 1px solid rgb(207, 207, 207) !important; border-collapse: collapse !important; ; color: var(--jp-ui-font-color1) !important; }\n",
       "      th.tdhistory677128 { border: 1px solid rgb(198,198,198) !important; border-collapse: collapse !important; ; padding: 2px 5px !important; ; font-size: 13px !important; ; text-align: center !important; white-space: normal !important; color: var(--jp-ui-font-color1) !important; }\n",
       "      th.tdhistory677128:last-child { text-align: left !important; }\n",
       "      tbody.tdhistory677128 tr:nth-child(even) { background: rgba(243, 243, 243, 0.75) !important; }\n",
       "      tbody.tdhistory677128 tr:nth-child(odd) { background: var(--jp-ui-inverse-font-color1) !important; }\n",
       "      td.tdhistory677128 { border: 1px solid rgb(207, 207, 207) !important; border-collapse: collapse !important; ; padding: 2px 5px !important; ; font-size: 13px !important; ; text-align: left !important;          white-space: nowrap !important; overflow:hidden !important; text-overflow:ellipsis !important;; }\n",
       "    </style><thead><tr style= \"background: rgba(243, 243, 243, 0.75)\"><th class=\"tdhistory677128\"></th><th class=\"tdhistory677128\">cust_id</th><th class=\"tdhistory677128\">last_event</th><th class=\"tdhistory677128\">page_path</th></tr></thead><tbody class=\"tdhistory677128 resultset-body\"><tr><th class=\"tdhistory677128\" style= \"background: rgba(243, 243, 243, 0.75)\">1</th><td class=\"tdhistory677128\">1</td><td class=\"tdhistory677128\">conversion</td><td class=\"tdhistory677128\">[start, c1, c3, conversion]</td></tr><tr><th class=\"tdhistory677128\" style= \"background: rgba(243, 243, 243, 0.75)\">2</th><td class=\"tdhistory677128\">2</td><td class=\"tdhistory677128\">c4</td><td class=\"tdhistory677128\">[start, c1, c3, c4]</td></tr><tr><th class=\"tdhistory677128\" style= \"background: rgba(243, 243, 243, 0.75)\">3</th><td class=\"tdhistory677128\">3</td><td class=\"tdhistory677128\">c2</td><td class=\"tdhistory677128\">[start, c2]</td></tr><tr><th class=\"tdhistory677128\" style= \"background: rgba(243, 243, 243, 0.75)\">4</th><td class=\"tdhistory677128\">4</td><td class=\"tdhistory677128\">c2</td><td class=\"tdhistory677128\">[start, c2]</td></tr><tr><th class=\"tdhistory677128\" style= \"background: rgba(243, 243, 243, 0.75)\">5</th><td class=\"tdhistory677128\">5</td><td class=\"tdhistory677128\">conversion</td><td class=\"tdhistory677128\">[start, c1, c4, conversion]</td></tr></tbody></table></div>"
      ]
     },
     "execution_count": 20,
     "metadata": {
      "application/vnd.teradata.resultset": "{\"resultSetID\":\"/Users/tatiana.bokareva/Documents/Teradata/Demos/Teradata/Resultsets/2024.02.26_17.24.22.731_AEDT\",\"historyID\":4248,\"chunkID\":\"00001\",\"sessionid\":\"\",\"portnum\":\"\",\"dockermode\":\"standalone\",\"totalRowCount\":5,\"chunkCount\":0,\"rowLimit\":0,\"columnMetadata\":[{\"columnName\":\"cust_id\",\"columnTypeName\":\"INTEGER\"},{\"columnNumber\":1,\"columnName\":\"last_event\",\"columnTypeName\":\"VARCHAR\",\"length\":10,\"scale\":10},{\"columnNumber\":2,\"columnName\":\"page_path\",\"columnTypeName\":\"LONG VARCHAR\",\"length\":64000,\"scale\":64000}]}"
     },
     "output_type": "execute_result"
    }
   ],
   "source": [
    "SEL * FROM all_path order by cust_id"
   ]
  },
  {
   "cell_type": "code",
   "execution_count": null,
   "id": "0aa2cb89",
   "metadata": {},
   "outputs": [],
   "source": [
    "DROP TABLE pairwise_transistions"
   ]
  },
  {
   "cell_type": "code",
   "execution_count": 26,
   "id": "20333d97",
   "metadata": {},
   "outputs": [
    {
     "data": {
      "text/plain": [
       "Success: 0 rows affected"
      ]
     },
     "execution_count": 26,
     "metadata": {
      "application/vnd.teradata.resultset": ""
     },
     "output_type": "execute_result"
    }
   ],
   "source": [
    "--Get the pairwise transistions and mark journeys with and outcome.\n",
    "CREATE TABLE pairwise_transistions as(\n",
    "    SELECT dt2.page_path\n",
    "          ,dt3.last_event\n",
    "    FROM nPath (\n",
    "            ON all_simple_path\n",
    "              PARTITION BY cust_id\n",
    "              ORDER BY date_tb\n",
    "              USING\n",
    "                Symbols (TRUE AS A, TRUE AS B)\n",
    "                Pattern ('A.B')\n",
    "                Mode (OVERLAPPING)\n",
    "                Result (\n",
    "                  FIRST (cust_id OF A) AS cust_id,\n",
    "                  ACCUMULATE (event OF ANY(A,B)) AS page_path\n",
    "                )\n",
    "            ) AS dt2\n",
    "    LEFT JOIN \n",
    "            all_path as dt3\n",
    "    ON dt2.cust_id = dt3.cust_id\n",
    ") WITH DATA PRIMARY INDEX(page_path)"
   ]
  },
  {
   "cell_type": "code",
   "execution_count": 27,
   "id": "441ec3c3",
   "metadata": {},
   "outputs": [
    {
     "data": {
      "application/vnd.teradata.resultset": "\"page_path\",\"last_event\"\n\"[c1, c3]\",\"conversion\"\n\"[c1, c3]\",\"c4\"\n\"[c1, c4]\",\"conversion\"\n\"[c3, c4]\",\"c4\"\n\"[c3, conversion]\",\"conversion\"\n\"[c4, conversion]\",\"conversion\"\n\"[start, c1]\",\"conversion\"\n\"[start, c1]\",\"c4\"\n\"[start, c2]\",\"c2\"",
      "text/html": [
       "<div class = \"td-resultset-table-div\" style = \"max-height: 100%; overflow-y: auto\">\n",
       "      <table class=\"tdhistory54662\"><style>\n",
       "      table.tdhistory54662 { display: block !important; min-height: 273px !important; overflow: auto !important; height: 273px !important; width: 100% !important; border: 1px solid rgb(207, 207, 207) !important; border-collapse: collapse !important; ; color: var(--jp-ui-font-color1) !important; }\n",
       "      th.tdhistory54662 { border: 1px solid rgb(198,198,198) !important; border-collapse: collapse !important; ; padding: 2px 5px !important; ; font-size: 13px !important; ; text-align: center !important; white-space: normal !important; color: var(--jp-ui-font-color1) !important; }\n",
       "      th.tdhistory54662:last-child { text-align: left !important; }\n",
       "      tbody.tdhistory54662 tr:nth-child(even) { background: rgba(243, 243, 243, 0.75) !important; }\n",
       "      tbody.tdhistory54662 tr:nth-child(odd) { background: var(--jp-ui-inverse-font-color1) !important; }\n",
       "      td.tdhistory54662 { border: 1px solid rgb(207, 207, 207) !important; border-collapse: collapse !important; ; padding: 2px 5px !important; ; font-size: 13px !important; ; text-align: left !important;          white-space: nowrap !important; overflow:hidden !important; text-overflow:ellipsis !important;; }\n",
       "    </style><thead><tr style= \"background: rgba(243, 243, 243, 0.75)\"><th class=\"tdhistory54662\"></th><th class=\"tdhistory54662\">page_path</th><th class=\"tdhistory54662\">last_event</th></tr></thead><tbody class=\"tdhistory54662 resultset-body\"><tr><th class=\"tdhistory54662\" style= \"background: rgba(243, 243, 243, 0.75)\">1</th><td class=\"tdhistory54662\">[c1, c3]</td><td class=\"tdhistory54662\">conversion</td></tr><tr><th class=\"tdhistory54662\" style= \"background: rgba(243, 243, 243, 0.75)\">2</th><td class=\"tdhistory54662\">[c1, c3]</td><td class=\"tdhistory54662\">c4</td></tr><tr><th class=\"tdhistory54662\" style= \"background: rgba(243, 243, 243, 0.75)\">3</th><td class=\"tdhistory54662\">[c1, c4]</td><td class=\"tdhistory54662\">conversion</td></tr><tr><th class=\"tdhistory54662\" style= \"background: rgba(243, 243, 243, 0.75)\">4</th><td class=\"tdhistory54662\">[c3, c4]</td><td class=\"tdhistory54662\">c4</td></tr><tr><th class=\"tdhistory54662\" style= \"background: rgba(243, 243, 243, 0.75)\">5</th><td class=\"tdhistory54662\">[c3, conversion]</td><td class=\"tdhistory54662\">conversion</td></tr><tr><th class=\"tdhistory54662\" style= \"background: rgba(243, 243, 243, 0.75)\">6</th><td class=\"tdhistory54662\">[c4, conversion]</td><td class=\"tdhistory54662\">conversion</td></tr><tr><th class=\"tdhistory54662\" style= \"background: rgba(243, 243, 243, 0.75)\">7</th><td class=\"tdhistory54662\">[start, c1]</td><td class=\"tdhistory54662\">conversion</td></tr><tr><th class=\"tdhistory54662\" style= \"background: rgba(243, 243, 243, 0.75)\">8</th><td class=\"tdhistory54662\">[start, c1]</td><td class=\"tdhistory54662\">c4</td></tr><tr><th class=\"tdhistory54662\" style= \"background: rgba(243, 243, 243, 0.75)\">9</th><td class=\"tdhistory54662\">[start, c2]</td><td class=\"tdhistory54662\">c2</td></tr></tbody></table></div>"
      ]
     },
     "execution_count": 27,
     "metadata": {
      "application/vnd.teradata.resultset": "{\"resultSetID\":\"/home/jovyan/Teradata/Resultsets/2024.01.14_19.25.56.649_UTC\",\"historyID\":3022,\"chunkID\":\"00001\",\"sessionid\":\"\",\"portnum\":\"\",\"dockermode\":\"appcenter\",\"totalRowCount\":9,\"chunkCount\":0,\"rowLimit\":0,\"columnMetadata\":[{\"columnName\":\"page_path\",\"columnTypeName\":\"LONG VARCHAR\",\"length\":64000,\"scale\":64000},{\"columnNumber\":1,\"columnName\":\"last_event\",\"columnTypeName\":\"VARCHAR\",\"length\":10,\"scale\":10}]}"
     },
     "output_type": "execute_result"
    }
   ],
   "source": [
    "--Check pairwise transistions\n",
    "sel * from pairwise_transistions order by page_path"
   ]
  },
  {
   "cell_type": "code",
   "execution_count": 10,
   "id": "1ea4badb",
   "metadata": {},
   "outputs": [
    {
     "data": {
      "text/plain": [
       "Success: 0 rows affected"
      ]
     },
     "execution_count": 10,
     "metadata": {
      "application/vnd.teradata.resultset": ""
     },
     "output_type": "execute_result"
    }
   ],
   "source": [
    "--Main program that implements Laplacian smothing and log odds ratios\n",
    "CREATE TABLE log_odds_example as(\n",
    "SEL page_path\n",
    "    ,prob_in_success\n",
    "    ,prob_in_non_success\n",
    "    ,ROUND(LOG(prob_in_success/prob_in_non_success),2) as log_odds\n",
    "FROM(\n",
    "    SEL COALESCE(a.page_path,b.page_path) as page_path\n",
    "    ,COALESCE(N_success, 0) as N_success_tb\n",
    "    ,COALESCE(N_non_success, 0) as N_non_success_tb\n",
    "    ,c.V\n",
    "    ,sum(N_success_tb) over(order by a.page_path) as tot_success\n",
    "    ,sum(N_non_success_tb) over(order by a.page_path) as tot_non_success\n",
    "    --- Laplacian smothing\n",
    "    ,(N_success_tb+1.00)/(tot_success+V) as prob_in_success\n",
    "    ,(N_non_success_tb+1.00)/(tot_non_success+V) as prob_in_non_success\n",
    "FROM\n",
    "\n",
    "    (SEL page_path , count(*) as N_success FROM pairwise_transistions where last_event = 'conversion' group by page_path) as a\n",
    "FULL JOIN \n",
    "    (SEL page_path , count(*) as N_non_success FROM pairwise_transistions where last_event <> 'conversion' group by page_path) as b\n",
    "ON a.page_path = b.page_path\n",
    "LEFT OUTER JOIN\n",
    "    (SEL count(distinct page_path)as V  FROM pairwise_transistions ) as c\n",
    "ON 1=1\n",
    ") as d\n",
    ") with data primary index(page_path);"
   ]
  },
  {
   "cell_type": "code",
   "execution_count": 11,
   "id": "63f8ce1f",
   "metadata": {},
   "outputs": [
    {
     "data": {
      "application/vnd.teradata.resultset": "\"page_path\",\"prob_in_success\",\"prob_in_non_success\",\"log_odds\"\n\"[c1, c3]\",\".17\",\".18\",\"-0.03\"\n\"[c1, c4]\",\".17\",\".09\",\"0.28\"\n\"[c3, c4]\",\".08\",\".18\",\"-0.36\"\n\"[c3, conversion]\",\".17\",\".09\",\"0.28\"\n\"[c4, conversion]\",\".17\",\".09\",\"0.28\"\n\"[start, c1]\",\".17\",\".18\",\"-0.03\"\n\"[start, c2]\",\".08\",\".18\",\"-0.36\"",
      "text/html": [
       "<div class = \"td-resultset-table-div\" style = \"max-height: 100%; overflow-y: auto\">\n",
       "      <table class=\"tdhistory484427\"><style>\n",
       "      table.tdhistory484427 { display: block !important; min-height: 231px !important; overflow: auto !important; height: 231px !important; width: 100% !important; border: 1px solid rgb(207, 207, 207) !important; border-collapse: collapse !important; ; color: var(--jp-ui-font-color1) !important; }\n",
       "      th.tdhistory484427 { border: 1px solid rgb(198,198,198) !important; border-collapse: collapse !important; ; padding: 2px 5px !important; ; font-size: 13px !important; ; text-align: center !important; white-space: normal !important; color: var(--jp-ui-font-color1) !important; }\n",
       "      th.tdhistory484427:last-child { text-align: left !important; }\n",
       "      tbody.tdhistory484427 tr:nth-child(even) { background: rgba(243, 243, 243, 0.75) !important; }\n",
       "      tbody.tdhistory484427 tr:nth-child(odd) { background: var(--jp-ui-inverse-font-color1) !important; }\n",
       "      td.tdhistory484427 { border: 1px solid rgb(207, 207, 207) !important; border-collapse: collapse !important; ; padding: 2px 5px !important; ; font-size: 13px !important; ; text-align: left !important;          white-space: nowrap !important; overflow:hidden !important; text-overflow:ellipsis !important;; }\n",
       "    </style><thead><tr style= \"background: rgba(243, 243, 243, 0.75)\"><th class=\"tdhistory484427\"></th><th class=\"tdhistory484427\">page_path</th><th class=\"tdhistory484427\">prob_in_success</th><th class=\"tdhistory484427\">prob_in_non_success</th><th class=\"tdhistory484427\">log_odds</th></tr></thead><tbody class=\"tdhistory484427 resultset-body\"><tr><th class=\"tdhistory484427\" style= \"background: rgba(243, 243, 243, 0.75)\">1</th><td class=\"tdhistory484427\">[c1, c3]</td><td class=\"tdhistory484427\">.17</td><td class=\"tdhistory484427\">.18</td><td class=\"tdhistory484427\">-0.03</td></tr><tr><th class=\"tdhistory484427\" style= \"background: rgba(243, 243, 243, 0.75)\">2</th><td class=\"tdhistory484427\">[c1, c4]</td><td class=\"tdhistory484427\">.17</td><td class=\"tdhistory484427\">.09</td><td class=\"tdhistory484427\">0.28</td></tr><tr><th class=\"tdhistory484427\" style= \"background: rgba(243, 243, 243, 0.75)\">3</th><td class=\"tdhistory484427\">[c3, c4]</td><td class=\"tdhistory484427\">.08</td><td class=\"tdhistory484427\">.18</td><td class=\"tdhistory484427\">-0.36</td></tr><tr><th class=\"tdhistory484427\" style= \"background: rgba(243, 243, 243, 0.75)\">4</th><td class=\"tdhistory484427\">[c3, conversion]</td><td class=\"tdhistory484427\">.17</td><td class=\"tdhistory484427\">.09</td><td class=\"tdhistory484427\">0.28</td></tr><tr><th class=\"tdhistory484427\" style= \"background: rgba(243, 243, 243, 0.75)\">5</th><td class=\"tdhistory484427\">[c4, conversion]</td><td class=\"tdhistory484427\">.17</td><td class=\"tdhistory484427\">.09</td><td class=\"tdhistory484427\">0.28</td></tr><tr><th class=\"tdhistory484427\" style= \"background: rgba(243, 243, 243, 0.75)\">6</th><td class=\"tdhistory484427\">[start, c1]</td><td class=\"tdhistory484427\">.17</td><td class=\"tdhistory484427\">.18</td><td class=\"tdhistory484427\">-0.03</td></tr><tr><th class=\"tdhistory484427\" style= \"background: rgba(243, 243, 243, 0.75)\">7</th><td class=\"tdhistory484427\">[start, c2]</td><td class=\"tdhistory484427\">.08</td><td class=\"tdhistory484427\">.18</td><td class=\"tdhistory484427\">-0.36</td></tr></tbody></table></div>"
      ]
     },
     "execution_count": 11,
     "metadata": {
      "application/vnd.teradata.resultset": "{\"resultSetID\":\"/home/jovyan/Teradata/Resultsets/2024.01.15_17.08.20.436_UTC\",\"historyID\":3051,\"chunkID\":\"00001\",\"sessionid\":\"\",\"portnum\":\"\",\"dockermode\":\"appcenter\",\"totalRowCount\":7,\"chunkCount\":0,\"rowLimit\":0,\"columnMetadata\":[{\"columnName\":\"page_path\",\"columnTypeName\":\"LONG VARCHAR\",\"length\":64000,\"scale\":64000},{\"columnNumber\":1,\"columnName\":\"prob_in_success\",\"columnTypeName\":\"DECIMAL\",\"length\":2,\"precision\":15,\"scale\":2},{\"columnNumber\":2,\"columnName\":\"prob_in_non_success\",\"columnTypeName\":\"DECIMAL\",\"length\":2,\"precision\":15,\"scale\":2},{\"columnNumber\":3,\"columnName\":\"log_odds\",\"columnTypeName\":\"FLOAT\"}]}"
     },
     "output_type": "execute_result"
    }
   ],
   "source": [
    "SEL * FROM log_odds_example order by page_path"
   ]
  },
  {
   "cell_type": "code",
   "execution_count": 22,
   "id": "2f6bb024",
   "metadata": {},
   "outputs": [
    {
     "data": {
      "text/plain": [
       "Success: 16 rows affected"
      ]
     },
     "execution_count": 22,
     "metadata": {
      "application/vnd.teradata.resultset": ""
     },
     "output_type": "execute_result"
    }
   ],
   "source": [
    "DROP TABLE new_journey;"
   ]
  },
  {
   "cell_type": "code",
   "execution_count": 23,
   "id": "0d09f91d",
   "metadata": {},
   "outputs": [
    {
     "data": {
      "text/plain": [
       "Success: 0 rows affected"
      ]
     },
     "execution_count": 23,
     "metadata": {
      "application/vnd.teradata.resultset": ""
     },
     "output_type": "execute_result"
    }
   ],
   "source": [
    "-- Scoring new journey. \n",
    "-- Note I will skip N_path to get pair wise transistions for a new journey. \n",
    "-- The code is the same as for creating a model\n",
    "CREATE TABLE new_journey(\n",
    "    page_path VARCHAR(20)\n",
    "    ,cust_id INTEGER\n",
    ")primary index(cust_id)"
   ]
  },
  {
   "cell_type": "code",
   "execution_count": 24,
   "id": "23e3b3ab",
   "metadata": {},
   "outputs": [
    {
     "data": {
      "text/plain": [
       "Success: 1 rows affected"
      ]
     },
     "execution_count": 24,
     "metadata": {
      "application/vnd.teradata.resultset": ""
     },
     "output_type": "execute_result"
    },
    {
     "data": {
      "text/plain": [
       "Success: 1 rows affected"
      ]
     },
     "execution_count": 24,
     "metadata": {
      "application/vnd.teradata.resultset": ""
     },
     "output_type": "execute_result"
    },
    {
     "data": {
      "text/plain": [
       "Success: 1 rows affected"
      ]
     },
     "execution_count": 24,
     "metadata": {
      "application/vnd.teradata.resultset": ""
     },
     "output_type": "execute_result"
    }
   ],
   "source": [
    "INSERT INTO new_journey VALUES('[start, c1]',6);\n",
    "INSERT INTO new_journey VALUES('[c1, c3]',6);\n",
    "INSERT INTO new_journey VALUES('[c3, c4]',6);"
   ]
  },
  {
   "cell_type": "code",
   "execution_count": 25,
   "id": "053a36d2",
   "metadata": {},
   "outputs": [
    {
     "data": {
      "application/vnd.teradata.resultset": "\"page_path\",\"cust_id\"\n\"[start, c1]\",\"6\"\n\"[c1, c3]\",\"6\"\n\"[c3, c4]\",\"6\"",
      "text/html": [
       "<div class = \"td-resultset-table-div\" style = \"max-height: 100%; overflow-y: auto\">\n",
       "      <table class=\"tdhistory960437\"><style>\n",
       "      table.tdhistory960437 { display: block !important; min-height: 147px !important; overflow: auto !important; height: 147px !important; width: 100% !important; border: 1px solid rgb(207, 207, 207) !important; border-collapse: collapse !important; ; color: var(--jp-ui-font-color1) !important; }\n",
       "      th.tdhistory960437 { border: 1px solid rgb(198,198,198) !important; border-collapse: collapse !important; ; padding: 2px 5px !important; ; font-size: 13px !important; ; text-align: center !important; white-space: normal !important; color: var(--jp-ui-font-color1) !important; }\n",
       "      th.tdhistory960437:last-child { text-align: left !important; }\n",
       "      tbody.tdhistory960437 tr:nth-child(even) { background: rgba(243, 243, 243, 0.75) !important; }\n",
       "      tbody.tdhistory960437 tr:nth-child(odd) { background: var(--jp-ui-inverse-font-color1) !important; }\n",
       "      td.tdhistory960437 { border: 1px solid rgb(207, 207, 207) !important; border-collapse: collapse !important; ; padding: 2px 5px !important; ; font-size: 13px !important; ; text-align: left !important;          white-space: nowrap !important; overflow:hidden !important; text-overflow:ellipsis !important;; }\n",
       "    </style><thead><tr style= \"background: rgba(243, 243, 243, 0.75)\"><th class=\"tdhistory960437\"></th><th class=\"tdhistory960437\">page_path</th><th class=\"tdhistory960437\">cust_id</th></tr></thead><tbody class=\"tdhistory960437 resultset-body\"><tr><th class=\"tdhistory960437\" style= \"background: rgba(243, 243, 243, 0.75)\">1</th><td class=\"tdhistory960437\">[start, c1]</td><td class=\"tdhistory960437\">6</td></tr><tr><th class=\"tdhistory960437\" style= \"background: rgba(243, 243, 243, 0.75)\">2</th><td class=\"tdhistory960437\">[c1, c3]</td><td class=\"tdhistory960437\">6</td></tr><tr><th class=\"tdhistory960437\" style= \"background: rgba(243, 243, 243, 0.75)\">3</th><td class=\"tdhistory960437\">[c3, c4]</td><td class=\"tdhistory960437\">6</td></tr></tbody></table></div>"
      ]
     },
     "execution_count": 25,
     "metadata": {
      "application/vnd.teradata.resultset": "{\"resultSetID\":\"/home/jovyan/Teradata/Resultsets/2024.01.15_17.22.14.900_UTC\",\"historyID\":3065,\"chunkID\":\"00001\",\"sessionid\":\"\",\"portnum\":\"\",\"dockermode\":\"appcenter\",\"totalRowCount\":3,\"chunkCount\":0,\"rowLimit\":0,\"columnMetadata\":[{\"columnName\":\"page_path\",\"columnTypeName\":\"VARCHAR\",\"length\":20,\"scale\":20},{\"columnNumber\":1,\"columnName\":\"cust_id\",\"columnTypeName\":\"INTEGER\"}]}"
     },
     "output_type": "execute_result"
    }
   ],
   "source": [
    "SEL * FROM new_journey"
   ]
  },
  {
   "cell_type": "code",
   "execution_count": 37,
   "id": "3e83a3f5",
   "metadata": {},
   "outputs": [
    {
     "data": {
      "application/vnd.teradata.resultset": "\"page_path\",\"cust_id\",\"page_path-1\",\"prob_in_success\",\"prob_in_non_success\",\"log_odds\",\"log_likelyhood\"\n\"[c1, c3]\",\"6\",\"[c1, c3]\",\".17\",\".18\",\"-0.03\",\"-0.42\"\n\"[c3, c4]\",\"6\",\"[c3, c4]\",\".08\",\".18\",\"-0.36\",\"-0.42\"\n\"[start, c1]\",\"6\",\"[start, c1]\",\".17\",\".18\",\"-0.03\",\"-0.42\"",
      "text/html": [
       "<div class = \"td-resultset-table-div\" style = \"max-height: 100%; overflow-y: auto\">\n",
       "      <table class=\"tdhistory333113\"><style>\n",
       "      table.tdhistory333113 { display: block !important; min-height: 147px !important; overflow: auto !important; height: 147px !important; width: 100% !important; border: 1px solid rgb(207, 207, 207) !important; border-collapse: collapse !important; ; color: var(--jp-ui-font-color1) !important; }\n",
       "      th.tdhistory333113 { border: 1px solid rgb(198,198,198) !important; border-collapse: collapse !important; ; padding: 2px 5px !important; ; font-size: 13px !important; ; text-align: center !important; white-space: normal !important; color: var(--jp-ui-font-color1) !important; }\n",
       "      th.tdhistory333113:last-child { text-align: left !important; }\n",
       "      tbody.tdhistory333113 tr:nth-child(even) { background: rgba(243, 243, 243, 0.75) !important; }\n",
       "      tbody.tdhistory333113 tr:nth-child(odd) { background: var(--jp-ui-inverse-font-color1) !important; }\n",
       "      td.tdhistory333113 { border: 1px solid rgb(207, 207, 207) !important; border-collapse: collapse !important; ; padding: 2px 5px !important; ; font-size: 13px !important; ; text-align: left !important;          white-space: nowrap !important; overflow:hidden !important; text-overflow:ellipsis !important;; }\n",
       "    </style><thead><tr style= \"background: rgba(243, 243, 243, 0.75)\"><th class=\"tdhistory333113\"></th><th class=\"tdhistory333113\">page_path</th><th class=\"tdhistory333113\">cust_id</th><th class=\"tdhistory333113\">page_path-1</th><th class=\"tdhistory333113\">prob_in_success</th><th class=\"tdhistory333113\">prob_in_non_success</th><th class=\"tdhistory333113\">log_odds</th><th class=\"tdhistory333113\">log_likelyhood</th></tr></thead><tbody class=\"tdhistory333113 resultset-body\"><tr><th class=\"tdhistory333113\" style= \"background: rgba(243, 243, 243, 0.75)\">1</th><td class=\"tdhistory333113\">[c1, c3]</td><td class=\"tdhistory333113\">6</td><td class=\"tdhistory333113\">[c1, c3]</td><td class=\"tdhistory333113\">.17</td><td class=\"tdhistory333113\">.18</td><td class=\"tdhistory333113\">-0.03</td><td class=\"tdhistory333113\">-0.42</td></tr><tr><th class=\"tdhistory333113\" style= \"background: rgba(243, 243, 243, 0.75)\">2</th><td class=\"tdhistory333113\">[c3, c4]</td><td class=\"tdhistory333113\">6</td><td class=\"tdhistory333113\">[c3, c4]</td><td class=\"tdhistory333113\">.08</td><td class=\"tdhistory333113\">.18</td><td class=\"tdhistory333113\">-0.36</td><td class=\"tdhistory333113\">-0.42</td></tr><tr><th class=\"tdhistory333113\" style= \"background: rgba(243, 243, 243, 0.75)\">3</th><td class=\"tdhistory333113\">[start, c1]</td><td class=\"tdhistory333113\">6</td><td class=\"tdhistory333113\">[start, c1]</td><td class=\"tdhistory333113\">.17</td><td class=\"tdhistory333113\">.18</td><td class=\"tdhistory333113\">-0.03</td><td class=\"tdhistory333113\">-0.42</td></tr></tbody></table></div>"
      ]
     },
     "execution_count": 37,
     "metadata": {
      "application/vnd.teradata.resultset": "{\"resultSetID\":\"/home/jovyan/Teradata/Resultsets/2024.01.15_17.32.39.877_UTC\",\"historyID\":3076,\"chunkID\":\"00001\",\"sessionid\":\"\",\"portnum\":\"\",\"dockermode\":\"appcenter\",\"totalRowCount\":3,\"chunkCount\":0,\"rowLimit\":0,\"columnMetadata\":[{\"columnName\":\"page_path\",\"columnTypeName\":\"VARCHAR\",\"length\":20,\"scale\":20},{\"columnNumber\":1,\"columnName\":\"cust_id\",\"columnTypeName\":\"INTEGER\"},{\"columnNumber\":2,\"columnName\":\"page_path-1\",\"columnTypeName\":\"LONG VARCHAR\",\"length\":64000,\"scale\":64000},{\"columnNumber\":3,\"columnName\":\"prob_in_success\",\"columnTypeName\":\"DECIMAL\",\"length\":2,\"precision\":15,\"scale\":2},{\"columnNumber\":4,\"columnName\":\"prob_in_non_success\",\"columnTypeName\":\"DECIMAL\",\"length\":2,\"precision\":15,\"scale\":2},{\"columnNumber\":5,\"columnName\":\"log_odds\",\"columnTypeName\":\"FLOAT\"},{\"columnNumber\":6,\"columnName\":\"log_likelyhood\",\"columnTypeName\":\"FLOAT\"}]}"
     },
     "output_type": "execute_result"
    }
   ],
   "source": [
    "--Score a journey \n",
    "SEL a.*,b.*\n",
    "   ,ROUND(sum(b.log_odds) over(order by a.page_path),2) AS log_likelyhood_to_convert\n",
    "FROM \n",
    "    new_journey as a\n",
    "left join\n",
    "    log_odds_example as b\n",
    "ON a.page_path = b.page_path"
   ]
  },
  {
   "cell_type": "code",
   "execution_count": null,
   "id": "3de85c0b",
   "metadata": {},
   "outputs": [],
   "source": []
  }
 ],
 "metadata": {
  "kernelspec": {
   "display_name": "Teradata SQL",
   "language": "Teradata SQL",
   "name": "teradatasql"
  },
  "language_info": {
   "codemirror_mode": "Teradata SQL",
   "file_extension": ".tdrs",
   "mimetype": "application/vnd.teradata.resultset",
   "name": "Teradata SQL",
   "nbconvert_exporter": "",
   "pygments_lexer": "",
   "version": "16.20"
  }
 },
 "nbformat": 4,
 "nbformat_minor": 5
}
