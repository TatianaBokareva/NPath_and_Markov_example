{
 "cells": [
  {
   "cell_type": "markdown",
   "id": "c74eb7e4-dc8e-41e5-959b-6b2aa2309c56",
   "metadata": {},
   "source": [
    "<b style = 'font-size:28px;font-family:Arial;color:#E37C4D'>Predictive Customer Journey</b>\n",
    "</header>"
   ]
  },
  {
   "cell_type": "markdown",
   "id": "e6f7381d-362b-4577-8948-f9608b828ce1",
   "metadata": {
    "tags": []
   },
   "source": [
    "\n",
    "Ok, you have the data on your customers, such as how much money they spend with you, what their frequency of visiting, etc, \n",
    "and you may have  fewhave few predictive models running. \n",
    "Great! But do you include their behavioural features into these models? If the answer is “no” or “some of them” then \n",
    "this blog is for you. Let me show how to createacreate likelihood of a customer to dodoing something using their behaviour.<br> \n",
    "\n",
    "\n",
    "A little while ago, Monica Woolmer, one of Teradata's most senior Business Consultants, wrote a blog about the Power of Path Analysis. In it, she described the potential business applications of the path and the underlying Vantage functionality that enables the analysis. <br>\n",
    "\n",
    "What stood out to me after reading her article was how the output of the nPath was a natural lead way to Markov Chain Analysis. I was immediately reminded of how, in one of our conferences, a colleague of mine presented the evolution of the nPath to show its great predictive power. I was struck by the simplicity and elegance of it, and that’s why I wanted to share this flash of insight with a wider audience. <br>\n",
    "\n",
    "Another reason I wanted to write this blog is that many data scientists don’t see relational databases as the viable choice of tool do to Data Science. I think this is a great loss to the community. I am a true believer of minimising the number of technologies to do analytics. This is due to the larger the number of analytical tools used, the bigger the technical debt accumulated and the bigger the data sprawl across these tools. Frankly, if I can accomplish what I need to do in the place where data is managed, then this is “gold” to me. <br>"
   ]
  },
  {
   "cell_type": "markdown",
   "id": "841c3bcd-ea63-4c8d-995c-f6cee2769ec7",
   "metadata": {
    "tags": []
   },
   "source": [
    "<b style = 'font-size:18px;font-family:Arial;color:#E37C4D'>What is a Markov Chain?</b>\n",
    "</header>"
   ]
  },
  {
   "cell_type": "markdown",
   "id": "fa9df4f8-8ef5-4d16-80cd-cde00b531583",
   "metadata": {},
   "source": [
    "To quote Wikipedia: “A Markov chain, or Markov process, is a stochastic model describing a sequence of possible events in which the probability of each event depends only on the state attained in the previous event.” [1] <br>\n",
    "\n",
    "Well, what exactly does that mean? If you think in business terms, then Markov Chain is a predictor of what is the next step a customer may take. <br>\n",
    "\n",
    "If you want to understand an algorithm and you are a visual person, I found Victor Powell’s explanation [2] simple to understand. In my words, a Markov Chain defines a mathematical model that describes a chronological journey from one state or event to another. Think of it like a more complicated old-fashioned hopscotch game, where players hop from one square to another. The probability of a player being able to hop to the next square really depends on which square the player is currently located. <br>\n",
    "\n",
    "If you like mathematical descriptions, consider, for any positive integer $n$ and positive events $e_1,e_2,...,e_n$ the follwing statement to be true:<br>\n",
    "$P(X_n=e_n|X_{n-1} = i_{n-1})=P(X_n=e_n|X_0=e_0, X_1=e_1,...,X_{n-1}=e_{n-1})$\n",
    "\n",
    "The main building block of the Markov Chain is the transitional probability. Assuming you have several options for transition from your current state to the next one, ask yourself what is the probability that you are going to pick a particular transition? <br>\n",
    "\n",
    "How do we find the transitional probability from one state to another? Well, that depends on the problem that you are trying to solve. For example, if you roll a six-sided die, then the transitional probability from one dice roll to another is $1/6$. That means there’s a one-in-six chance that the die will land on a particular number. <br>\n",
    "\n",
    "Let’s return to our simple hopscotch game, where squares follow one after another. Then the probability that you can hop to the next square might be $98\\%$, accounting for the slight chance of making a mistake like falling. <br>\n",
    "\n",
    "The transitional probabilities between each state are recorded in a transition matrix. \n",
    "\n",
    "For example, if you are rolling your six-sided die again, then your matrix can be a 6x6 grid with a 1/6 entry in every cell. If you are still playing our simple hopscotch game, then the matrix has a 0.98 entry in a row for consecutive squares and a 0.02 entry for the non-consecutive squares, which is equals to falling. <br>\n",
    "\n",
    "To sum things up in an elegant mathematical definition, we define the $(i, j)^{th}$ element in Transition Matrix($P$) as follows: $P(X_{n+1} = j |X_n = i)$. This means that the probability of being in the next state depends on the previous state. "
   ]
  },
  {
   "cell_type": "markdown",
   "id": "7b2f05d2-5abf-4206-af0b-67621fcdd53a",
   "metadata": {},
   "source": [
    "<b style = 'font-size:18px;font-family:Arial;color:#E37C4D'> What is nPath?</b>\n",
    "</header> "
   ]
  },
  {
   "cell_type": "markdown",
   "id": "d2637e2b-beca-436b-ae0b-08ffaee48cd9",
   "metadata": {
    "tags": []
   },
   "source": [
    "nPath is a function that is specific to Teradata [3]. \n",
    "I call it a “regular expression on a time series.” \n",
    "The simplest application of nPath is to sequence events in a customer journey prior to an outcome. \n",
    "That leads us to another question. What is an outcome? Well, it could be anything, such as death, divorce, or moving.\n",
    "How great is that! You can define a regular expression to find any pattern of customer behaviour. <br>\n",
    "\n",
    "By this point, you might be wondering how nPath works exactly. Let’s look at a simple example. \n",
    "<img src=\"./Pictures/journeys.png\" alt=\"fishy\" class=\"bg-primary\" width=\"1000px\"><br>\n",
    "\n",
    "Imagine that we have 5 customers buying from a very simple website, with only 6 pages $(Start, C1, C2, C3, C4,Conversion)$. The desired outcome, in our case, is the Conversion event. The whole customer journeys represented by the figure above. \n",
    "We want to examine what most of our customers are doing before the Conversion event.\n",
    "In the database, the following information is stored in the table shown below:\n"
   ]
  },
  {
   "cell_type": "code",
   "execution_count": 9,
   "id": "fc34fbbd-0608-4204-9677-b6fc20942792",
   "metadata": {
    "tags": []
   },
   "outputs": [
    {
     "name": "stdin",
     "output_type": "stream",
     "text": [
      "Password: ········\n"
     ]
    },
    {
     "name": "stdout",
     "output_type": "stream",
     "text": [
      "Success: 'AWS_PROD' connection established and activated for user 'tb250045'\n"
     ]
    }
   ],
   "source": [
    "%connect AWS_PROD"
   ]
  },
  {
   "cell_type": "code",
   "execution_count": 11,
   "id": "4e559d02-7dbc-4636-8c5f-e6f720ca621b",
   "metadata": {
    "tags": []
   },
   "outputs": [
    {
     "data": {
      "application/vnd.teradata.resultset": "\"cust_id\",\"date_tb\",\"event\"\n\"1\",\"2022-06-21\",\"start\"\n\"1\",\"2022-06-22\",\"c1\"\n\"1\",\"2022-06-23\",\"c3\"\n\"1\",\"2022-06-24\",\"conversion\"\n\"2\",\"2022-06-21\",\"start\"\n\"2\",\"2022-06-22\",\"c1\"\n\"2\",\"2022-06-23\",\"c3\"\n\"2\",\"2022-06-24\",\"c4\"\n\"3\",\"2022-06-21\",\"start\"\n\"3\",\"2022-06-22\",\"c2\"\n\"4\",\"2022-06-21\",\"start\"\n\"4\",\"2022-06-22\",\"c2\"\n\"5\",\"2022-06-21\",\"start\"\n\"5\",\"2022-06-22\",\"c1\"\n\"5\",\"2022-06-24\",\"c4\"\n\"5\",\"2022-06-25\",\"conversion\"",
      "text/html": [
       "<div class = \"td-resultset-table-div\" style = \"max-height: 100%; overflow-y: auto\">\n",
       "      <table class=\"tdhistory127335\"><style>\n",
       "      table.tdhistory127335 { display: block !important; min-height: 420px !important; overflow: auto !important; height: 420px !important; width: 100% !important; border: 1px solid rgb(207, 207, 207) !important; border-collapse: collapse !important; ; color: var(--jp-ui-font-color1) !important; }\n",
       "      th.tdhistory127335 { border: 1px solid rgb(198,198,198) !important; border-collapse: collapse !important; ; padding: 2px 5px !important; ; font-size: 13px !important; ; text-align: center !important; white-space: normal !important; color: var(--jp-ui-font-color1) !important; }\n",
       "      th.tdhistory127335:last-child { text-align: left !important; }\n",
       "      tbody.tdhistory127335 tr:nth-child(even) { background: rgba(243, 243, 243, 0.75) !important; }\n",
       "      tbody.tdhistory127335 tr:nth-child(odd) { background: var(--jp-ui-inverse-font-color1) !important; }\n",
       "      td.tdhistory127335 { border: 1px solid rgb(207, 207, 207) !important; border-collapse: collapse !important; ; padding: 2px 5px !important; ; font-size: 13px !important; ; text-align: left !important;          white-space: nowrap !important; overflow:hidden !important; text-overflow:ellipsis !important;; }\n",
       "    </style><thead><tr style= \"background: rgba(243, 243, 243, 0.75)\"><th class=\"tdhistory127335\"></th><th class=\"tdhistory127335\">cust_id</th><th class=\"tdhistory127335\">date_tb</th><th class=\"tdhistory127335\">event</th></tr></thead><tbody class=\"tdhistory127335 resultset-body\"><tr><th class=\"tdhistory127335\" style= \"background: rgba(243, 243, 243, 0.75)\">1</th><td class=\"tdhistory127335\">1</td><td class=\"tdhistory127335\">2022-06-21</td><td class=\"tdhistory127335\">start</td></tr><tr><th class=\"tdhistory127335\" style= \"background: rgba(243, 243, 243, 0.75)\">2</th><td class=\"tdhistory127335\">1</td><td class=\"tdhistory127335\">2022-06-22</td><td class=\"tdhistory127335\">c1</td></tr><tr><th class=\"tdhistory127335\" style= \"background: rgba(243, 243, 243, 0.75)\">3</th><td class=\"tdhistory127335\">1</td><td class=\"tdhistory127335\">2022-06-23</td><td class=\"tdhistory127335\">c3</td></tr><tr><th class=\"tdhistory127335\" style= \"background: rgba(243, 243, 243, 0.75)\">4</th><td class=\"tdhistory127335\">1</td><td class=\"tdhistory127335\">2022-06-24</td><td class=\"tdhistory127335\">conversion</td></tr><tr><th class=\"tdhistory127335\" style= \"background: rgba(243, 243, 243, 0.75)\">5</th><td class=\"tdhistory127335\">2</td><td class=\"tdhistory127335\">2022-06-21</td><td class=\"tdhistory127335\">start</td></tr><tr><th class=\"tdhistory127335\" style= \"background: rgba(243, 243, 243, 0.75)\">6</th><td class=\"tdhistory127335\">2</td><td class=\"tdhistory127335\">2022-06-22</td><td class=\"tdhistory127335\">c1</td></tr><tr><th class=\"tdhistory127335\" style= \"background: rgba(243, 243, 243, 0.75)\">7</th><td class=\"tdhistory127335\">2</td><td class=\"tdhistory127335\">2022-06-23</td><td class=\"tdhistory127335\">c3</td></tr><tr><th class=\"tdhistory127335\" style= \"background: rgba(243, 243, 243, 0.75)\">8</th><td class=\"tdhistory127335\">2</td><td class=\"tdhistory127335\">2022-06-24</td><td class=\"tdhistory127335\">c4</td></tr><tr><th class=\"tdhistory127335\" style= \"background: rgba(243, 243, 243, 0.75)\">9</th><td class=\"tdhistory127335\">3</td><td class=\"tdhistory127335\">2022-06-21</td><td class=\"tdhistory127335\">start</td></tr><tr><th class=\"tdhistory127335\" style= \"background: rgba(243, 243, 243, 0.75)\">10</th><td class=\"tdhistory127335\">3</td><td class=\"tdhistory127335\">2022-06-22</td><td class=\"tdhistory127335\">c2</td></tr><tr><th class=\"tdhistory127335\" style= \"background: rgba(243, 243, 243, 0.75)\">11</th><td class=\"tdhistory127335\">4</td><td class=\"tdhistory127335\">2022-06-21</td><td class=\"tdhistory127335\">start</td></tr><tr><th class=\"tdhistory127335\" style= \"background: rgba(243, 243, 243, 0.75)\">12</th><td class=\"tdhistory127335\">4</td><td class=\"tdhistory127335\">2022-06-22</td><td class=\"tdhistory127335\">c2</td></tr><tr><th class=\"tdhistory127335\" style= \"background: rgba(243, 243, 243, 0.75)\">13</th><td class=\"tdhistory127335\">5</td><td class=\"tdhistory127335\">2022-06-21</td><td class=\"tdhistory127335\">start</td></tr><tr><th class=\"tdhistory127335\" style= \"background: rgba(243, 243, 243, 0.75)\">14</th><td class=\"tdhistory127335\">5</td><td class=\"tdhistory127335\">2022-06-22</td><td class=\"tdhistory127335\">c1</td></tr><tr><th class=\"tdhistory127335\" style= \"background: rgba(243, 243, 243, 0.75)\">15</th><td class=\"tdhistory127335\">5</td><td class=\"tdhistory127335\">2022-06-24</td><td class=\"tdhistory127335\">c4</td></tr><tr><th class=\"tdhistory127335\" style= \"background: rgba(243, 243, 243, 0.75)\">16</th><td class=\"tdhistory127335\">5</td><td class=\"tdhistory127335\">2022-06-25</td><td class=\"tdhistory127335\">conversion</td></tr></tbody></table></div>"
      ]
     },
     "execution_count": 11,
     "metadata": {
      "application/vnd.teradata.resultset": "{\"resultSetID\":\"/Users/tatiana.bokareva/Documents/Teradata/Demos/Teradata/Resultsets/2024.02.26_17.21.42.379_AEDT\",\"historyID\":4239,\"chunkID\":\"00001\",\"sessionid\":\"\",\"portnum\":\"\",\"dockermode\":\"standalone\",\"totalRowCount\":16,\"chunkCount\":0,\"rowLimit\":0,\"columnMetadata\":[{\"columnName\":\"cust_id\",\"columnTypeName\":\"INTEGER\"},{\"columnNumber\":1,\"columnName\":\"date_tb\",\"columnTypeName\":\"DATE\"},{\"columnNumber\":2,\"columnName\":\"event\",\"columnTypeName\":\"VARCHAR\",\"length\":10,\"scale\":10}]}"
     },
     "output_type": "execute_result"
    }
   ],
   "source": [
    "sel * from all_simple_path order by 1,2"
   ]
  },
  {
   "cell_type": "markdown",
   "id": "6c9d6b90-2fb6-4535-91f0-fc5ede8c8883",
   "metadata": {},
   "source": [
    "What we need to do is to accumulate all the events into a row representing customer journey:\n"
   ]
  },
  {
   "cell_type": "code",
   "execution_count": 13,
   "id": "ecf0a4e0-165f-4c5c-9637-8b2b77ebb736",
   "metadata": {
    "tags": []
   },
   "outputs": [
    {
     "data": {
      "application/vnd.teradata.resultset": "\"cust_id\",\"last_event\",\"page_path\"\n\"1\",\"conversion\",\"[start, c1, c3, conversion]\"\n\"2\",\"c4\",\"[start, c1, c3, c4]\"\n\"3\",\"c2\",\"[start, c2]\"\n\"4\",\"c2\",\"[start, c2]\"\n\"5\",\"conversion\",\"[start, c1, c4, conversion]\"",
      "text/html": [
       "<div class = \"td-resultset-table-div\" style = \"max-height: 100%; overflow-y: auto\">\n",
       "      <table class=\"tdhistory454810\"><style>\n",
       "      table.tdhistory454810 { display: block !important; min-height: 189px !important; overflow: auto !important; height: 189px !important; width: 100% !important; border: 1px solid rgb(207, 207, 207) !important; border-collapse: collapse !important; ; color: var(--jp-ui-font-color1) !important; }\n",
       "      th.tdhistory454810 { border: 1px solid rgb(198,198,198) !important; border-collapse: collapse !important; ; padding: 2px 5px !important; ; font-size: 13px !important; ; text-align: center !important; white-space: normal !important; color: var(--jp-ui-font-color1) !important; }\n",
       "      th.tdhistory454810:last-child { text-align: left !important; }\n",
       "      tbody.tdhistory454810 tr:nth-child(even) { background: rgba(243, 243, 243, 0.75) !important; }\n",
       "      tbody.tdhistory454810 tr:nth-child(odd) { background: var(--jp-ui-inverse-font-color1) !important; }\n",
       "      td.tdhistory454810 { border: 1px solid rgb(207, 207, 207) !important; border-collapse: collapse !important; ; padding: 2px 5px !important; ; font-size: 13px !important; ; text-align: left !important;          white-space: nowrap !important; overflow:hidden !important; text-overflow:ellipsis !important;; }\n",
       "    </style><thead><tr style= \"background: rgba(243, 243, 243, 0.75)\"><th class=\"tdhistory454810\"></th><th class=\"tdhistory454810\">cust_id</th><th class=\"tdhistory454810\">last_event</th><th class=\"tdhistory454810\">page_path</th></tr></thead><tbody class=\"tdhistory454810 resultset-body\"><tr><th class=\"tdhistory454810\" style= \"background: rgba(243, 243, 243, 0.75)\">1</th><td class=\"tdhistory454810\">1</td><td class=\"tdhistory454810\">conversion</td><td class=\"tdhistory454810\">[start, c1, c3, conversion]</td></tr><tr><th class=\"tdhistory454810\" style= \"background: rgba(243, 243, 243, 0.75)\">2</th><td class=\"tdhistory454810\">2</td><td class=\"tdhistory454810\">c4</td><td class=\"tdhistory454810\">[start, c1, c3, c4]</td></tr><tr><th class=\"tdhistory454810\" style= \"background: rgba(243, 243, 243, 0.75)\">3</th><td class=\"tdhistory454810\">3</td><td class=\"tdhistory454810\">c2</td><td class=\"tdhistory454810\">[start, c2]</td></tr><tr><th class=\"tdhistory454810\" style= \"background: rgba(243, 243, 243, 0.75)\">4</th><td class=\"tdhistory454810\">4</td><td class=\"tdhistory454810\">c2</td><td class=\"tdhistory454810\">[start, c2]</td></tr><tr><th class=\"tdhistory454810\" style= \"background: rgba(243, 243, 243, 0.75)\">5</th><td class=\"tdhistory454810\">5</td><td class=\"tdhistory454810\">conversion</td><td class=\"tdhistory454810\">[start, c1, c4, conversion]</td></tr></tbody></table></div>"
      ]
     },
     "execution_count": 13,
     "metadata": {
      "application/vnd.teradata.resultset": "{\"resultSetID\":\"/Users/tatiana.bokareva/Documents/Teradata/Demos/Teradata/Resultsets/2024.02.26_17.24.28.020_AEDT\",\"historyID\":4249,\"chunkID\":\"00001\",\"sessionid\":\"\",\"portnum\":\"\",\"dockermode\":\"standalone\",\"totalRowCount\":5,\"chunkCount\":0,\"rowLimit\":0,\"columnMetadata\":[{\"columnName\":\"cust_id\",\"columnTypeName\":\"INTEGER\"},{\"columnNumber\":1,\"columnName\":\"last_event\",\"columnTypeName\":\"VARCHAR\",\"length\":10,\"scale\":10},{\"columnNumber\":2,\"columnName\":\"page_path\",\"columnTypeName\":\"LONG VARCHAR\",\"length\":64000,\"scale\":64000}]}"
     },
     "output_type": "execute_result"
    }
   ],
   "source": [
    "SEL * FROM all_path order by cust_id"
   ]
  },
  {
   "cell_type": "markdown",
   "id": "9e47e40c-1ada-4611-abdd-0fb5ada08292",
   "metadata": {},
   "source": [
    "This is where nPath helps us. In Teradata Vantage, the call to the function looks like this:"
   ]
  },
  {
   "cell_type": "code",
   "execution_count": null,
   "id": "5d1cbff0-51df-458d-a861-a9b025c75d97",
   "metadata": {},
   "outputs": [],
   "source": [
    "--Check all the journeys\n",
    "CREATE table all_path AS(\n",
    "SELECT * FROM nPath (\n",
    "ON all_simple_path\n",
    "  PARTITION BY cust_id\n",
    "  ORDER BY date_tb\n",
    "  USING\n",
    "    Symbols (TRUE AS A)\n",
    "    Pattern ('A*')\n",
    "    Mode (NONOVERLAPPING)\n",
    "    Result (\n",
    "      FIRST (cust_id OF A) AS cust_id,\n",
    "      LAST (event OF A) AS last_event,\n",
    "      ACCUMULATE (event OF A) AS page_path\n",
    "    )\n",
    ") AS dt2\n",
    ") with data primary index(cust_id)"
   ]
  },
  {
   "cell_type": "markdown",
   "id": "44b72d1f-be27-45f9-827b-021cca822d3d",
   "metadata": {},
   "source": [
    "As you can see it is an SQL like but a bit different. Lets dive little deeper into the sintax :<br>\n",
    "\n",
    " <span style='color: green;'>**SELECT * FROM**</span> <span style='color: red;'> **nPath** </span> (**$\\longleftarrow$ Select all the column that function output**<br>\n",
    " \n",
    " <span style='color: green;'>**ON**</span> all_simple_path **$\\longleftarrow$ Table name that we want Npath ot run on** <br>\n",
    "  &emsp; <span style='color: green;'>**PARTITION BY**</span> cust_id **$\\longleftarrow$  We want journey per customer**<br> \n",
    "  &emsp; <span style='color: green;'>**ORDER BY**</span>  date_tb **$\\longleftarrow$ Each journey is ordered by the date **<br>\n",
    "  &emsp; <span style='color: green;'>**USING**</span><br>\n",
    "    &emsp;&emsp; <span style='color: green;'>**Symbols**</span>  (<span style='color: red;'>**TRUE AS A)**</span> $\\longleftarrow$  Symbol that we are going to use in the Regular expression**<br>\n",
    "    &emsp;&emsp; <span style='color: green;'>**Pattern**</span>  (<span style='color: red;'> **'A\\*'** </span>) **$\\longleftarrow$  Regular expression. In this case, we want “everything”**<br> \n",
    "    &emsp;&emsp; <span style='color: green;'>**Mode** </span>  (<span style='color: red;'>**NONOVERLAPPING)**</span> **$\\longleftarrow$ How do we want the window to slide while we search for a pattern** <br>\n",
    "    &emsp;&emsp; <span style='color: green;'>**Result** </span>  ( **$\\longleftarrow$ What do we want the function to return?** <br>\n",
    "      &emsp;&emsp;&emsp; <span style='color: green;'>**FIRST** </span>  (cust_id OF A) AS cust_id, **$\\longleftarrow$  First customer id we saw in the pattern** <br>\n",
    "      &emsp;&emsp;&emsp; <span style='color: green;'>**LAST**</span>  (event OF A) AS last_event, **$\\longleftarrow$  Last event in the jorney**<br>\n",
    "     &emsp;&emsp;&emsp;  <span style='color: green;'>**ACCUMULATE**</span>  (event OF A) AS page_path **$\\longleftarrow$  The journey itself**<br>\n",
    "    &emsp;&emsp;)<br>\n",
    ") AS dt2<br>\n"
   ]
  },
  {
   "cell_type": "markdown",
   "id": "e71a75b9-af12-4598-8860-b04cbf6be235",
   "metadata": {
    "tags": []
   },
   "source": [
    "<b style = 'font-size:18px;font-family:Arial;color:#E37C4D'> Applications for the customer journey </b>\n",
    "</header> "
   ]
  },
  {
   "cell_type": "markdown",
   "id": "7893e21d-d222-4c0a-8a9a-40719f37910d",
   "metadata": {},
   "source": [
    "I hope by now you have a pretty good intuition on how nPath and Markov chain can be applied to your customers’ journeys. But we aren’t done yet. Now, let’s examine how we combine a Markov chain and nPath. <br>\n",
    "\n",
    "We’ll use the same data as in the above nPath example. What do we need to do to create our model? <br>\n",
    "\n",
    "1. Create the **transitional Probabilities Matrix**: \n",
    "\n",
    "<table width=\"500\">\n",
    "    <tr>\n",
    "        <th>page_path</th>\n",
    "        <th>prob_success</th>\n",
    "        <th>prob_of_non_success</th>\n",
    "    </tr>\n",
    "    <tr style=\"border: 3px solid orange;\">\n",
    "        <td> $[start,c_2]$ </td>\n",
    "        <td>0.000</td>\n",
    "        <td>0.500</td>\n",
    "    </tr>\n",
    "    <tr>\n",
    "        <td>$[c_3,conversion]$</td>\n",
    "        <td>0.200</td>\n",
    "        <td>0.000</td>\n",
    "    </tr>\n",
    "    <tr>\n",
    "        <td>$[c_1,c_3]$ </td>\n",
    "        <td>0.200</td>\n",
    "        <td>0.250</td>\n",
    "    </tr>\n",
    "    <tr style=\"border: 3px solid orange;\">\n",
    "        <td>$[c_1,c_4]$ </td>\n",
    "        <td>0.200</td>\n",
    "        <td>0.000</td>\n",
    "    </tr> \n",
    "    <tr>\n",
    "        <td>$[start,c_1]$ </td>\n",
    "        <td>0.400</td>\n",
    "        <td>0.250</td>\n",
    "    </tr> \n",
    "     <tr>\n",
    "        <td>$[c_3,c_4]$ </td>\n",
    "        <td>0.000</td>\n",
    "        <td>0.250</td>\n",
    "    </tr>\n",
    "       <tr>\n",
    "        <td>$[c_4,conversion]$ </td>\n",
    "        <td>0.200</td>\n",
    "        <td>0.000</td>\n",
    "    </tr>  \n",
    "</table>"
   ]
  },
  {
   "cell_type": "markdown",
   "id": "8e847818-29e8-4154-84eb-97c7380b06b3",
   "metadata": {
    "tags": []
   },
   "source": [
    "2. Fill in probabilities if the pair of events does not exist: **Laplacian Smoothing**\n",
    "\n",
    "For example, transmission between $Start$ and the $C_2$ page does not exist in the successful journeys, and it appears in $50\\%$ of the journeys that did not end in the conversion. Similarly, the transition between $C_1$ and $C_4$ only exists in the journeys that ended in the outcome. The problem with it is that in the next step, we will need to calculate the log-odds ratio.<br>\n",
    " $ \\large LOG_{\\:odds\\:ratio} = LOG(\\frac{Probability\\:of\\:a\\:transition\\:in\\: the\\:journeys\\: with\\: an\\: outcome}{Probability\\: of\\: a\\: transition\\: in\\: the\\: journeys\\: without\\: an\\: outcome})$<br>\n",
    "<br>"
   ]
  },
  {
   "cell_type": "markdown",
   "id": "63d4827a-32ab-48a2-aadb-bb9b316f5062",
   "metadata": {},
   "source": [
    "If the probability of one of the transitions is zero, then we get:<br><br>\n",
    "$ \\large LOG_{\\:odds\\:ratio} = LOG(\\frac{Probability\\:of\\:a\\:transition\\:in\\: the\\:journeys\\: with\\: an\\: outcome}{0})$<br> \n",
    "\n",
    "<span style='font-size:100px;'>&#x1F631;</span> <br>\n",
    "\n",
    "or <br>\n",
    "<br>\n",
    " $ \\large LOG_{\\:odds\\:ratio} = LOG(\\frac{0}{Probability\\: of\\: a\\: transition\\: in\\: the\\: journeys\\: without\\: an\\: outcome}) = LOG(0)$<br>\n",
    " \n",
    "<span style='font-size:100px;'>&#x1FAE3;</span>"
   ]
  },
  {
   "cell_type": "markdown",
   "id": "855bc07d-2c4f-41d9-9c9e-252eaa479fd1",
   "metadata": {},
   "source": [
    "Laplacian smoothing lets us give a bit more weight to transitions that do not exist and take a bit more weight away from the existing transitions. It is calculated by the following formula:<br>\n",
    "\n",
    "$ \\large LOG_{\\:odds\\:ratio} = LOG(\\frac{Frequency\\: of\\:  a\\:  transtion\\:  in\\:  the\\:  journeys}{Frequency\\: ofv a\\: transtion(N)\\: +\\: Number\\: of\\: unique\\: transitions(V)})$<br> \n",
    "\n",
    "In our example, the number of unique transitions in both journeys $(V)$ is 7."
   ]
  },
  {
   "cell_type": "markdown",
   "id": "e0b1860f-39ad-430a-8d86-a314f214d457",
   "metadata": {
    "tags": []
   },
   "source": [
    "<table width=\"600\">\n",
    "    <tr>\n",
    "        <th>Transitions</th>\n",
    "        <th>Frequency in journeys with an outcome $(N=5)$</th>\n",
    "        <th>Frequency in journeys without an outcome $(N=4)$</th>\n",
    "        <th>Probability of Transition with an outcome $(N=5)$</th>\n",
    "        <th>Probability of Transition without an outcome $(N=4)$</th>\n",
    "    </tr>\n",
    "    <tr style=\"border: 3px solid orange;\">\n",
    "        <td> $[start,c_2]$ </td>\n",
    "        <td>0</td>\n",
    "        <td>1</td>\n",
    "        <td>$\\frac{0+1}{5+7}=0.08$</td>\n",
    "        <td>$\\frac{1+1}{4+7}=0.18$</td>\n",
    "    </tr>\n",
    "    <tr>\n",
    "        <td>$[c_3,conversion]$</td>\n",
    "        <td>1</td>\n",
    "        <td>0</td>\n",
    "        <td>$\\frac{1+1}{5+7}=0.17$</td>\n",
    "        <td>$\\frac{0+1}{4+7}=0.09$</td>\n",
    "    </tr>\n",
    "    <tr>\n",
    "        <td>$[c_1,c_3]$ </td>\n",
    "        <td>1</td>\n",
    "        <td>1</td>\n",
    "        <td>$\\frac{1+1}{5+7}=0.17$</td>\n",
    "        <td>$\\frac{1+1}{4+7}=0.18$</td>\n",
    "    </tr>\n",
    "    <tr style=\"border: 3px solid orange;\">\n",
    "        <td>$[c_1,c_4]$ </td>\n",
    "        <td>1</td>\n",
    "        <td>0</td>\n",
    "        <td>$\\frac{1+1}{5+7}=0.17$</td>\n",
    "        <td>$\\frac{0+1}{4+7}=0.09$</td>\n",
    "    </tr> \n",
    "    <tr>\n",
    "        <td>$[start,c_1]$ </td>\n",
    "        <td>1</td>\n",
    "        <td>1</td>\n",
    "        <td>$\\frac{1+1}{5+7}=0.17$</td>\n",
    "        <td>$\\frac{1+1}{4+7}=0.18$</td>\n",
    "    </tr> \n",
    "     <tr>\n",
    "        <td>$[c_3,c_4]$ </td>\n",
    "        <td>0</td>\n",
    "        <td>1</td>\n",
    "        <td>$\\frac{0+1}{5+7}=0.08$</td>\n",
    "        <td>$\\frac{1+1}{4+7}=0.18$</td>\n",
    "    </tr>\n",
    "       <tr>\n",
    "        <td>$[c_4,conversion]$ </td>\n",
    "        <td>1</td>\n",
    "        <td>0</td>\n",
    "        <td>$\\frac{1+1}{5+7}=0.17$</td>\n",
    "        <td>$\\frac{0+1}{4+7}=0.09$</td>\n",
    "    </tr>  \n",
    "</table>"
   ]
  },
  {
   "cell_type": "markdown",
   "id": "b053ca1d-23ec-467a-9d2b-f91a58cff09f",
   "metadata": {},
   "source": [
    "3. Calculate **logs-odds ratio**\n",
    "\n",
    "<table width=\"600\">\n",
    "    <tr>\n",
    "        <th>Transitions</th>\n",
    "        <th>Probability of Transition with an outcome $(N=5)$</th>\n",
    "        <th>Probability of Transition with an outcome $(N=4)$</th>\n",
    "        <th>Lof odds ratio</th>\n",
    "    </tr>\n",
    "    <tr>\n",
    "        <td> $[start,c_2]$ </td>\n",
    "        <td>$\\frac{0+1}{5+7}=0.08$</td>\n",
    "        <td>$\\frac{1+1}{4+7}=0.18$</td>\n",
    "        <td>$LOG(\\frac{0.08}{0.18})=-0.36$</td>\n",
    "    </tr>\n",
    "    <tr>\n",
    "        <td>$[c_3,conversion]$</td>\n",
    "        <td>$\\frac{1+1}{5+7}=0.17$</td>\n",
    "        <td>$\\frac{0+1}{4+7}=0.09$</td>\n",
    "        <td>$LOG(\\frac{0.17}{0.09})=0.28$</td>\n",
    "    </tr>\n",
    "    <tr>\n",
    "        <td>$[c_1,c_3]$ </td>\n",
    "        <td>$\\frac{1+1}{5+7}=0.17$</td>\n",
    "        <td>$\\frac{1+1}{4+7}=0.18$</td>\n",
    "        <td>$LOG(\\frac{0.17}{0.18})=-0.03$</td>\n",
    "    </tr>\n",
    "    <tr>\n",
    "        <td>$[c_1,c_4]$ </td>\n",
    "        <td>$\\frac{1+1}{5+7}=0.17$</td>\n",
    "        <td>$\\frac{0+1}{4+7}=0.09$</td>\n",
    "        <td>$LOG(\\frac{0.17}{0.09})=0.28$</td>\n",
    "    </tr> \n",
    "    <tr>\n",
    "        <td>$[start,c_1]$ </td>\n",
    "        <td>$\\frac{1+1}{5+7}=0.17$</td>\n",
    "        <td>$\\frac{1+1}{4+7}=0.18$</td>\n",
    "        <td>$LOG(\\frac{0.17}{0.18})=-0.03$</td>\n",
    "    </tr> \n",
    "     <tr>\n",
    "        <td>$[c_3,c_4]$ </td>\n",
    "        <td>$\\frac{0+1}{5+7}=0.08$</td>\n",
    "        <td>$\\frac{1+1}{4+7}=0.18$</td>\n",
    "         <td>$LOG(\\frac{0.08}{0.18})=-0.36$</td>\n",
    "    </tr>\n",
    "       <tr>\n",
    "        <td>$[c_4,conversion]$ </td>\n",
    "        <td>$\\frac{1+1}{5+7}=0.17$</td>\n",
    "        <td>$\\frac{0+1}{4+7}=0.09$</td>\n",
    "        <td>$LOG(\\frac{0.17}{0.09})=0.28$</td>\n",
    "    </tr>  \n",
    "</table>"
   ]
  },
  {
   "cell_type": "markdown",
   "id": "9bec775e-6edf-4214-be81-855642ccd126",
   "metadata": {},
   "source": [
    "4. Score New Journeys<br>\n",
    "Now that we have our model, scoring new journeys becomes a trivial task. Let's assume we\n",
    "have a new customer whose journey looks like this: $Start → C1 → C3 → C4$. What is the\n",
    "likelihood of the customer reaching the outcome? To calculate this, we need to add log odds\n",
    "ratios of pairwise transitions.\n",
    "\n",
    "<table width=\"600\">\n",
    "    <tr>\n",
    "        <th>Transitions</th>\n",
    "        <th>Log odds ratio</th>\n",
    "        <th>Running sum</th>\n",
    "    </tr>\n",
    "    <tr>\n",
    "        <td> $[start,c_1]$ </td>\n",
    "        <td>-0.03</td>\n",
    "        <td>-0.03</td>\n",
    "    </tr>\n",
    "    <tr>\n",
    "        <td> $[c_1,c_3]$  </td>\n",
    "        <td>-0.03</td>\n",
    "        <td>-0.06</td>\n",
    "    </tr>\n",
    "    <tr>\n",
    "        <td> $[c_3,c_4]$  </td>\n",
    "        <td>-0.36</td>\n",
    "        <td> -0.42</td>\n",
    "    </tr>\n",
    "</table>\n",
    "<br>\n",
    "\n",
    "The final sum of the log odds ratio is -0.42, and it is very unlikely that a customer will reach\n",
    "the outcome. In general, the larger the sum of log odds ratios, the more likely a customer will\n",
    "reach an outcome."
   ]
  },
  {
   "cell_type": "markdown",
   "id": "f4c1ebb3-7ad8-4cbe-964d-6c76744bcb61",
   "metadata": {},
   "source": [
    "**Code**: Teradata SQL code can be found here."
   ]
  }
 ],
 "metadata": {
  "kernelspec": {
   "display_name": "Teradata SQL",
   "language": "Teradata SQL",
   "name": "teradatasql"
  },
  "language_info": {
   "codemirror_mode": "Teradata SQL",
   "file_extension": ".tdrs",
   "mimetype": "application/vnd.teradata.resultset",
   "name": "Teradata SQL",
   "nbconvert_exporter": "",
   "pygments_lexer": "",
   "version": "16.20"
  }
 },
 "nbformat": 4,
 "nbformat_minor": 5
}
